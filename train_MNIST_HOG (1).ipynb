{
  "nbformat": 4,
  "nbformat_minor": 0,
  "metadata": {
    "colab": {
      "name": "train_MNIST_HOG.ipynb",
      "version": "0.3.2",
      "provenance": []
    },
    "kernelspec": {
      "name": "python3",
      "display_name": "Python 3"
    },
    "accelerator": "GPU"
  },
  "cells": [
    {
      "metadata": {
        "id": "LEmI-6hYwgJx",
        "colab_type": "code",
        "colab": {}
      },
      "cell_type": "code",
      "source": [
        "# Importing the libraries\n",
        "import numpy as np\n",
        "import matplotlib.pyplot as plt\n",
        "import pandas as pd\n",
        "import io\n",
        "from skimage.feature import hog"
      ],
      "execution_count": 0,
      "outputs": []
    },
    {
      "metadata": {
        "id": "KJ3A0lFgSUuc",
        "colab_type": "code",
        "colab": {
          "base_uri": "https://localhost:8080/",
          "height": 34
        },
        "outputId": "fe7cff4a-d4c1-4ffa-c6a6-554dde387750"
      },
      "cell_type": "code",
      "source": [
        "from keras.datasets import mnist\n",
        "(train_image,train_labels), (test_image,test_labels)=mnist.load_data()"
      ],
      "execution_count": 2,
      "outputs": [
        {
          "output_type": "stream",
          "text": [
            "Using TensorFlow backend.\n"
          ],
          "name": "stderr"
        }
      ]
    },
    {
      "metadata": {
        "id": "mhGGQMlNzGPZ",
        "colab_type": "code",
        "outputId": "b55a1fac-6c20-4145-aaa0-d763549d29ff",
        "colab": {
          "base_uri": "https://localhost:8080/",
          "height": 214
        }
      },
      "cell_type": "code",
      "source": [
        "X=train_image.reshape((60000, 28*28))\n",
        "y = train_labels\n",
        "\n",
        "# Encoding categorical data\n",
        "from sklearn.preprocessing import LabelEncoder, OneHotEncoder\n",
        "onehotencoder = OneHotEncoder(categorical_features = [0])\n",
        "Y = onehotencoder.fit_transform(y.reshape(-1, 1)).toarray()\n",
        "\n",
        "# To remember train/test split for other notebook\n",
        "X_train=X\n",
        "y_train=Y.astype(\"int\")\n",
        "\n",
        "# Feature Scaling\n",
        "from sklearn.preprocessing import StandardScaler\n",
        "sc = StandardScaler()\n",
        "X_train = sc.fit_transform(X_train)\n",
        "\n",
        "X_train = X_train.reshape(-1, 28, 28, 1).astype(\"float32\")"
      ],
      "execution_count": 3,
      "outputs": [
        {
          "output_type": "stream",
          "text": [
            "/usr/local/lib/python3.6/dist-packages/sklearn/preprocessing/_encoders.py:368: FutureWarning: The handling of integer data will change in version 0.22. Currently, the categories are determined based on the range [0, max(values)], while in the future they will be determined based on the unique values.\n",
            "If you want the future behaviour and silence this warning, you can specify \"categories='auto'\".\n",
            "In case you used a LabelEncoder before this OneHotEncoder to convert the categories to integers, then you can now use the OneHotEncoder directly.\n",
            "  warnings.warn(msg, FutureWarning)\n",
            "/usr/local/lib/python3.6/dist-packages/sklearn/preprocessing/_encoders.py:390: DeprecationWarning: The 'categorical_features' keyword is deprecated in version 0.20 and will be removed in 0.22. You can use the ColumnTransformer instead.\n",
            "  \"use the ColumnTransformer instead.\", DeprecationWarning)\n",
            "/usr/local/lib/python3.6/dist-packages/sklearn/utils/validation.py:595: DataConversionWarning: Data with input dtype uint8 was converted to float64 by StandardScaler.\n",
            "  warnings.warn(msg, DataConversionWarning)\n",
            "/usr/local/lib/python3.6/dist-packages/sklearn/utils/validation.py:595: DataConversionWarning: Data with input dtype uint8 was converted to float64 by StandardScaler.\n",
            "  warnings.warn(msg, DataConversionWarning)\n"
          ],
          "name": "stderr"
        }
      ]
    },
    {
      "metadata": {
        "id": "k2AJQ8p1033M",
        "colab_type": "code",
        "outputId": "a7cfed59-612a-4a58-85b4-e80dfe682c4f",
        "colab": {
          "base_uri": "https://localhost:8080/",
          "height": 90
        }
      },
      "cell_type": "code",
      "source": [
        "# Extract the hog features\n",
        "list_hog_fd = []\n",
        "for feature in X_train:\n",
        "    fd = hog(feature.reshape((28, 28)), orientations=9, pixels_per_cell=(7, 7), cells_per_block=(1, 1), visualise=False)\n",
        "    list_hog_fd.append(fd)\n",
        "hog_features = np.array(list_hog_fd, 'float64')\n",
        "hog_features.shape"
      ],
      "execution_count": 4,
      "outputs": [
        {
          "output_type": "stream",
          "text": [
            "/usr/local/lib/python3.6/dist-packages/skimage/feature/_hog.py:119: skimage_deprecation: Default value of `block_norm`==`L1` is deprecated and will be changed to `L2-Hys` in v0.15\n",
            "  'be changed to `L2-Hys` in v0.15', skimage_deprecation)\n"
          ],
          "name": "stderr"
        },
        {
          "output_type": "execute_result",
          "data": {
            "text/plain": [
              "(60000, 144)"
            ]
          },
          "metadata": {
            "tags": []
          },
          "execution_count": 4
        }
      ]
    },
    {
      "metadata": {
        "id": "9NGUK1L-4CgE",
        "colab_type": "code",
        "outputId": "77a3a1ee-7a38-4b41-f239-c78694e3b59d",
        "colab": {
          "base_uri": "https://localhost:8080/",
          "height": 1438
        }
      },
      "cell_type": "code",
      "source": [
        "# # Building the ANN\n",
        "\n",
        "# Importing the Keras libraries and packages\n",
        "from keras.models import Sequential\n",
        "from keras.layers import Convolution2D,MaxPooling2D,Flatten,Dense,BatchNormalization,Dropout\n",
        "from keras.callbacks import LearningRateScheduler\n",
        "\n",
        "classifier = Sequential()\n",
        "\n",
        "# classifier.add(Flatten())\n",
        "classifier.add(Dense(1024, activation='relu', input_dim = 144))\n",
        "classifier.add(Dropout(0.25))\n",
        "classifier.add(Dense(512, activation='relu'))\n",
        "classifier.add(Dropout(0.25))\n",
        "classifier.add(Dense(256, activation='relu'))\n",
        "classifier.add(Dropout(0.5))\n",
        "classifier.add(Dense(10, activation='softmax'))\n",
        "\n",
        "\n",
        "classifier.compile(loss='categorical_crossentropy', optimizer = 'adam', metrics=[\"accuracy\"])\n",
        "\n",
        "# Compiling the ANN\n",
        "classifier.compile(optimizer = 'adam', loss = 'binary_crossentropy', metrics = [\"accuracy\"])\n",
        "\n",
        "# Fitting the ANN to the Training set\n",
        "annealer = LearningRateScheduler(lambda x: 1e-3 * 0.9 ** x)\n",
        "hist=classifier.fit(hog_features, y_train, batch_size = 100, epochs = 40,callbacks=[annealer])\n"
      ],
      "execution_count": 5,
      "outputs": [
        {
          "output_type": "stream",
          "text": [
            "Epoch 1/40\n",
            "60000/60000 [==============================] - 6s 98us/step - loss: 0.0569 - acc: 0.9799\n",
            "Epoch 2/40\n",
            "60000/60000 [==============================] - 5s 82us/step - loss: 0.0292 - acc: 0.9900\n",
            "Epoch 3/40\n",
            "60000/60000 [==============================] - 5s 83us/step - loss: 0.0236 - acc: 0.9919\n",
            "Epoch 4/40\n",
            "60000/60000 [==============================] - 5s 82us/step - loss: 0.0212 - acc: 0.9928\n",
            "Epoch 5/40\n",
            "60000/60000 [==============================] - 5s 82us/step - loss: 0.0183 - acc: 0.9938\n",
            "Epoch 6/40\n",
            "60000/60000 [==============================] - 5s 82us/step - loss: 0.0160 - acc: 0.9944\n",
            "Epoch 7/40\n",
            "60000/60000 [==============================] - 5s 82us/step - loss: 0.0144 - acc: 0.9952\n",
            "Epoch 8/40\n",
            "60000/60000 [==============================] - 5s 83us/step - loss: 0.0128 - acc: 0.9955\n",
            "Epoch 9/40\n",
            "60000/60000 [==============================] - 5s 82us/step - loss: 0.0115 - acc: 0.9961\n",
            "Epoch 10/40\n",
            "60000/60000 [==============================] - 5s 84us/step - loss: 0.0105 - acc: 0.9964\n",
            "Epoch 11/40\n",
            "60000/60000 [==============================] - 5s 83us/step - loss: 0.0095 - acc: 0.9968\n",
            "Epoch 12/40\n",
            "60000/60000 [==============================] - 5s 82us/step - loss: 0.0085 - acc: 0.9971\n",
            "Epoch 13/40\n",
            "60000/60000 [==============================] - 5s 83us/step - loss: 0.0079 - acc: 0.9973\n",
            "Epoch 14/40\n",
            "60000/60000 [==============================] - 5s 83us/step - loss: 0.0070 - acc: 0.9976\n",
            "Epoch 15/40\n",
            "60000/60000 [==============================] - 5s 83us/step - loss: 0.0064 - acc: 0.9979\n",
            "Epoch 16/40\n",
            "60000/60000 [==============================] - 5s 83us/step - loss: 0.0060 - acc: 0.9980\n",
            "Epoch 17/40\n",
            "60000/60000 [==============================] - 5s 83us/step - loss: 0.0053 - acc: 0.9983\n",
            "Epoch 18/40\n",
            "60000/60000 [==============================] - 5s 82us/step - loss: 0.0050 - acc: 0.9984\n",
            "Epoch 19/40\n",
            "60000/60000 [==============================] - 5s 82us/step - loss: 0.0047 - acc: 0.9984\n",
            "Epoch 20/40\n",
            "60000/60000 [==============================] - 5s 82us/step - loss: 0.0043 - acc: 0.9987\n",
            "Epoch 21/40\n",
            "60000/60000 [==============================] - 5s 82us/step - loss: 0.0039 - acc: 0.9987\n",
            "Epoch 22/40\n",
            "60000/60000 [==============================] - 5s 82us/step - loss: 0.0037 - acc: 0.9988\n",
            "Epoch 23/40\n",
            "60000/60000 [==============================] - 5s 82us/step - loss: 0.0035 - acc: 0.9989\n",
            "Epoch 24/40\n",
            "60000/60000 [==============================] - 5s 82us/step - loss: 0.0034 - acc: 0.9988\n",
            "Epoch 25/40\n",
            "60000/60000 [==============================] - 5s 81us/step - loss: 0.0030 - acc: 0.9989\n",
            "Epoch 26/40\n",
            "60000/60000 [==============================] - 5s 82us/step - loss: 0.0028 - acc: 0.9991\n",
            "Epoch 27/40\n",
            "60000/60000 [==============================] - 5s 81us/step - loss: 0.0028 - acc: 0.9991\n",
            "Epoch 28/40\n",
            "60000/60000 [==============================] - 5s 80us/step - loss: 0.0028 - acc: 0.9991\n",
            "Epoch 29/40\n",
            "60000/60000 [==============================] - 5s 81us/step - loss: 0.0025 - acc: 0.9992\n",
            "Epoch 30/40\n",
            "60000/60000 [==============================] - 5s 81us/step - loss: 0.0025 - acc: 0.9992\n",
            "Epoch 31/40\n",
            "60000/60000 [==============================] - 5s 82us/step - loss: 0.0025 - acc: 0.9991\n",
            "Epoch 32/40\n",
            "60000/60000 [==============================] - 5s 82us/step - loss: 0.0024 - acc: 0.9992\n",
            "Epoch 33/40\n",
            "60000/60000 [==============================] - 5s 81us/step - loss: 0.0022 - acc: 0.9993\n",
            "Epoch 34/40\n",
            "60000/60000 [==============================] - 5s 82us/step - loss: 0.0020 - acc: 0.9994\n",
            "Epoch 35/40\n",
            "60000/60000 [==============================] - 5s 83us/step - loss: 0.0021 - acc: 0.9993\n",
            "Epoch 36/40\n",
            "60000/60000 [==============================] - 5s 81us/step - loss: 0.0020 - acc: 0.9994\n",
            "Epoch 37/40\n",
            "60000/60000 [==============================] - 5s 82us/step - loss: 0.0021 - acc: 0.9993\n",
            "Epoch 38/40\n",
            "60000/60000 [==============================] - 5s 82us/step - loss: 0.0020 - acc: 0.9994\n",
            "Epoch 39/40\n",
            "60000/60000 [==============================] - 5s 82us/step - loss: 0.0019 - acc: 0.9994\n",
            "Epoch 40/40\n",
            "60000/60000 [==============================] - 5s 82us/step - loss: 0.0019 - acc: 0.9993\n"
          ],
          "name": "stdout"
        }
      ]
    },
    {
      "metadata": {
        "id": "YffE3XCbmpR5",
        "colab_type": "code",
        "colab": {
          "base_uri": "https://localhost:8080/",
          "height": 390
        },
        "outputId": "3c39373b-18f4-44db-b9ec-c0ebaa181bbe"
      },
      "cell_type": "code",
      "source": [
        "classifier.summary()"
      ],
      "execution_count": 8,
      "outputs": [
        {
          "output_type": "stream",
          "text": [
            "_________________________________________________________________\n",
            "Layer (type)                 Output Shape              Param #   \n",
            "=================================================================\n",
            "dense_1 (Dense)              (None, 1024)              148480    \n",
            "_________________________________________________________________\n",
            "dropout_1 (Dropout)          (None, 1024)              0         \n",
            "_________________________________________________________________\n",
            "dense_2 (Dense)              (None, 512)               524800    \n",
            "_________________________________________________________________\n",
            "dropout_2 (Dropout)          (None, 512)               0         \n",
            "_________________________________________________________________\n",
            "dense_3 (Dense)              (None, 256)               131328    \n",
            "_________________________________________________________________\n",
            "dropout_3 (Dropout)          (None, 256)               0         \n",
            "_________________________________________________________________\n",
            "dense_4 (Dense)              (None, 10)                2570      \n",
            "=================================================================\n",
            "Total params: 807,178\n",
            "Trainable params: 807,178\n",
            "Non-trainable params: 0\n",
            "_________________________________________________________________\n"
          ],
          "name": "stdout"
        }
      ]
    },
    {
      "metadata": {
        "id": "vQ41RbKz6VRO",
        "colab_type": "code",
        "colab": {
          "base_uri": "https://localhost:8080/",
          "height": 34
        },
        "outputId": "600c8834-fcef-4bb3-9e7d-1fa509a16f03"
      },
      "cell_type": "code",
      "source": [
        "# save the model to disk\n",
        "from sklearn.externals import joblib\n",
        "filename = 'MNIST_HOG_model.sav'\n",
        "joblib.dump(classifier, filename)"
      ],
      "execution_count": 6,
      "outputs": [
        {
          "output_type": "execute_result",
          "data": {
            "text/plain": [
              "['MNIST_HOG_model.sav']"
            ]
          },
          "metadata": {
            "tags": []
          },
          "execution_count": 6
        }
      ]
    },
    {
      "metadata": {
        "id": "vHYl31n38l0A",
        "colab_type": "code",
        "colab": {}
      },
      "cell_type": "code",
      "source": [
        "from google.colab import files\n",
        "files.download('MNIST_HOG_model.sav')"
      ],
      "execution_count": 0,
      "outputs": []
    }
  ]
}